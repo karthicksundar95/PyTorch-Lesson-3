{
 "cells": [
  {
   "cell_type": "markdown",
   "metadata": {},
   "source": [
    "# PyTorch Lesson 3\n",
    "\n",
    "\n",
    "Things we will learn in this lesson:\n",
    "\n",
    "    - forward pass caluclation using hand written code\n",
    "    - forward pass using inbuilt method Linear()\n",
    "    - pytorch custom module creation for simple linear regression\n",
    "    - optimization algorithm -Batch Gradient descent\n",
    "    - Stochastic Gradient Descent\n",
    "    - Mini- Batch gradient Descent\n",
    "    - Simple Linear regrssion using inbuilt pytorch loss and optim functions"
   ]
  },
  {
   "cell_type": "code",
   "execution_count": 183,
   "metadata": {
    "collapsed": true
   },
   "outputs": [],
   "source": [
    "import torch"
   ]
  },
  {
   "cell_type": "markdown",
   "metadata": {},
   "source": [
    "# Forward pass method\n",
    "**Lets  define a function by our self say y = wx+b **\n",
    "\n",
    "where, x is the input variable \n",
    "       w is the weight/slope \n",
    "       b is the bias/y-intercept\n",
    "        \n",
    "**Now lets calculate the value of y for x = 1.0, w=2.0 and b=-1.0 using torch functions as practise**"
   ]
  },
  {
   "cell_type": "code",
   "execution_count": 184,
   "metadata": {
    "collapsed": true
   },
   "outputs": [],
   "source": [
    "def forward(weight, bias, input_x):\n",
    "    y = bias + (weight*input_x)\n",
    "    return y"
   ]
  },
  {
   "cell_type": "code",
   "execution_count": 185,
   "metadata": {},
   "outputs": [
    {
     "name": "stdout",
     "output_type": "stream",
     "text": [
      "The value of yhat is: tensor([1.], grad_fn=<AddBackward0>)\n"
     ]
    }
   ],
   "source": [
    "#Weight & bias tensors are initialized \n",
    "#(requires_grad is set True for variable which are to be learned/updated during model building)\n",
    "\n",
    "w = torch.tensor(2.0, requires_grad=True)\n",
    "b = torch.tensor(-1.0, requires_grad=True)\n",
    "\n",
    "x= torch.tensor([1.0])\n",
    "yhat = forward(w, b, x)\n",
    "\n",
    "\n",
    "print('The value of yhat is:', yhat)"
   ]
  },
  {
   "cell_type": "markdown",
   "metadata": {},
   "source": [
    "**Now lets do the same for a set of input rows sent to the \"Foraward method\"**\n",
    "\n",
    "This would result in a linear function applied to every row of the input and the outputs are calculated by boradcasting the values"
   ]
  },
  {
   "cell_type": "code",
   "execution_count": 186,
   "metadata": {},
   "outputs": [
    {
     "name": "stdout",
     "output_type": "stream",
     "text": [
      "The output of yhat with input x: tensor([[1],\n",
      "        [5]], grad_fn=<AddBackward0>)\n"
     ]
    }
   ],
   "source": [
    "x = torch.tensor([[1],[3]])\n",
    "\n",
    "yhat = forward(w, b, x)\n",
    "\n",
    "print('The output of yhat with input x:', yhat)"
   ]
  },
  {
   "cell_type": "markdown",
   "metadata": {},
   "source": [
    "# Linear() inbuilt method for Forward calculation\n",
    "### PYTORCH has made our lives easy by providng all these linear caluclations handy through the 'class Linear' in package torch.nn\n",
    "\n",
    "**Lets make use of Linear method from torch.nn to calculate the value of an output for a randomly set weight and bias**"
   ]
  },
  {
   "cell_type": "code",
   "execution_count": 187,
   "metadata": {
    "collapsed": true
   },
   "outputs": [],
   "source": [
    "from torch.nn import Linear"
   ]
  },
  {
   "cell_type": "code",
   "execution_count": 188,
   "metadata": {
    "collapsed": true
   },
   "outputs": [],
   "source": [
    "torch.manual_seed(42)\n",
    "model = Linear(in_features=1, out_features=1)"
   ]
  },
  {
   "cell_type": "markdown",
   "metadata": {},
   "source": [
    "** *'model' object of 'Linear' class shows,* **\n",
    "\n",
    "the weight/slope as first parameter 0.7645\n",
    "the bisas as second parameter 0.8300"
   ]
  },
  {
   "cell_type": "code",
   "execution_count": 189,
   "metadata": {},
   "outputs": [
    {
     "data": {
      "text/plain": [
       "[Parameter containing:\n",
       " tensor([[0.7645]], requires_grad=True), Parameter containing:\n",
       " tensor([0.8300], requires_grad=True)]"
      ]
     },
     "execution_count": 189,
     "metadata": {},
     "output_type": "execute_result"
    }
   ],
   "source": [
    "list(model.parameters())"
   ]
  },
  {
   "cell_type": "code",
   "execution_count": 190,
   "metadata": {},
   "outputs": [
    {
     "name": "stdout",
     "output_type": "stream",
     "text": [
      "Python dictionary:  OrderedDict([('weight', tensor([[0.7645]])), ('bias', tensor([0.8300]))])\n",
      "keys:  odict_keys(['weight', 'bias'])\n",
      "values:  odict_values([tensor([[0.7645]]), tensor([0.8300])])\n"
     ]
    }
   ],
   "source": [
    "print(\"Python dictionary: \",model.state_dict())\n",
    "print(\"keys: \",model.state_dict().keys())\n",
    "print(\"values: \",model.state_dict().values())"
   ]
  },
  {
   "cell_type": "markdown",
   "metadata": {},
   "source": [
    "Thus the object 'model' of class linear, avoids us to write a seperate method called forward and explicitly send their paramters"
   ]
  },
  {
   "cell_type": "code",
   "execution_count": 53,
   "metadata": {},
   "outputs": [
    {
     "name": "stdout",
     "output_type": "stream",
     "text": [
      "The value of yhat is: tensor([3.1236], grad_fn=<AddBackward0>)\n"
     ]
    }
   ],
   "source": [
    "x = torch.tensor([3.0])\n",
    "\n",
    "yhat = model(x)\n",
    "print('The value of yhat is:', yhat)"
   ]
  },
  {
   "cell_type": "markdown",
   "metadata": {},
   "source": [
    "# Customer Module for Linear Regression using Linear()\n",
    "#### Now we are comfortable using the  in-built pytorch 'Linear' class for performing the forward pass calculation.\n",
    "\n",
    "Lets move ahead and build a custom module for Linear regression as a whole (leveraging the in-built features like 'torch.nn.Linear')\n",
    "\n",
    "**For building customer module we will use \"torch.nn.Module\"**"
   ]
  },
  {
   "cell_type": "code",
   "execution_count": 92,
   "metadata": {
    "collapsed": true
   },
   "outputs": [],
   "source": [
    "import torch.nn as nn"
   ]
  },
  {
   "cell_type": "code",
   "execution_count": 204,
   "metadata": {
    "collapsed": true
   },
   "outputs": [],
   "source": [
    "class Linear_Regression(nn.Module):\n",
    "    def __init__(self,input_size,output_size):\n",
    "        super(Linear_Regression, self).__init__()\n",
    "        self.Linear = nn.Linear(input_size, output_size)\n",
    "        \n",
    "    def forward_pass(self, input_x):\n",
    "        return self.Linear(input_x)"
   ]
  },
  {
   "cell_type": "code",
   "execution_count": 94,
   "metadata": {},
   "outputs": [
    {
     "name": "stdout",
     "output_type": "stream",
     "text": [
      "Python dictionary:  OrderedDict([('Linear.weight', tensor([[-0.2343]])), ('Linear.bias', tensor([0.9186]))])\n",
      "keys:  odict_keys(['Linear.weight', 'Linear.bias'])\n",
      "values:  odict_values([tensor([[-0.2343]]), tensor([0.9186])])\n"
     ]
    }
   ],
   "source": [
    "#creating object 'model' for Linear_Regression class\n",
    "model = Linear_Regression(1,1)\n",
    "\n",
    "#State_dict is the default weights and bias initialized by the 'Linear' class\n",
    "print(\"Python dictionary: \",model.state_dict())\n",
    "print(\"keys: \",model.state_dict().keys())\n",
    "print(\"values: \",model.state_dict().values())"
   ]
  },
  {
   "cell_type": "code",
   "execution_count": 96,
   "metadata": {},
   "outputs": [
    {
     "name": "stdout",
     "output_type": "stream",
     "text": [
      "The value of yhat is: tensor([[ 0.6843],\n",
      "        [-0.2528]], grad_fn=<AddmmBackward>)\n"
     ]
    }
   ],
   "source": [
    "x = torch.tensor([[1.], [5.]])\n",
    "\n",
    "yhat = model.forward_pass(x)\n",
    "print('The value of yhat is:', yhat)"
   ]
  },
  {
   "cell_type": "markdown",
   "metadata": {},
   "source": [
    "# Pytorch way of building simple Linear Regression"
   ]
  },
  {
   "cell_type": "code",
   "execution_count": 107,
   "metadata": {
    "collapsed": true
   },
   "outputs": [],
   "source": [
    "import matplotlib.pyplot as plt"
   ]
  },
  {
   "cell_type": "markdown",
   "metadata": {},
   "source": [
    "Lets first define the forward pass function and MSE loss function"
   ]
  },
  {
   "cell_type": "code",
   "execution_count": 162,
   "metadata": {
    "collapsed": true
   },
   "outputs": [],
   "source": [
    "def forward(x):\n",
    "    return w*x\n",
    "\n",
    "def loss_mse(y,yhat):\n",
    "    return torch.mean(y - yhat)**2"
   ]
  },
  {
   "cell_type": "markdown",
   "metadata": {},
   "source": [
    "Initial value of weight is set to -10.0 and the input vector is also created"
   ]
  },
  {
   "cell_type": "code",
   "execution_count": 172,
   "metadata": {},
   "outputs": [],
   "source": [
    "w = torch.tensor(-10.0, requires_grad=True)\n",
    "\n",
    "# create a range of input value with .arange() function where 0.1 is the stepsize from -3 to 3(resulting in 60 elements). \n",
    "# View function creates transposes matrix from (1x60) to (60x1)\n",
    "x = torch.arange(-3,3,0.1).view(-1,1)"
   ]
  },
  {
   "cell_type": "code",
   "execution_count": 173,
   "metadata": {},
   "outputs": [
    {
     "data": {
      "image/png": "[encoded data removed]",
      "text/plain": [
       "<matplotlib.figure.Figure at 0x2430d71e588>"
      ]
     },
     "metadata": {},
     "output_type": "display_data"
    }
   ],
   "source": [
    "#Lets create the actual output y\n",
    "\n",
    "f = -3*x\n",
    "\n",
    "y = f + (0.1*torch.rand(x.size()))\n",
    "\n",
    "plt.plot(x.numpy(),y.numpy(),'ro')\n",
    "plt.show()"
   ]
  },
  {
   "cell_type": "markdown",
   "metadata": {},
   "source": [
    "The below code iterates for 4 epochs,\n",
    "\n",
    "i.e 1 epoch is equal to sending all input of x and calulating forward and backward pass(1 epoch = 1 update of weight w)\n",
    "\n",
    "In each epoch, loss is calculated for 'w' weught output for every input of x using MSE. Partial diff is done using \".backward()\"\n",
    "\n",
    "weight 'w' is updated in successive steps with account to lr. "
   ]
  },
  {
   "cell_type": "markdown",
   "metadata": {},
   "source": [
    "#### Batch Gradient Descent"
   ]
  },
  {
   "cell_type": "code",
   "execution_count": 165,
   "metadata": {},
   "outputs": [
    {
     "name": "stdout",
     "output_type": "stream",
     "text": [
      "tensor(-9.9970)\n",
      "tensor(-9.9940)\n",
      "tensor(-9.9910)\n",
      "tensor(-9.9881)\n"
     ]
    }
   ],
   "source": [
    "cost = []\n",
    "for epoch in range(4):\n",
    "    yhat = forward(x)\n",
    "    loss = loss_mse(y,yhat)\n",
    "    loss.backward()\n",
    "    w.data = w.data - (0.1*w.grad.data)\n",
    "    print(w.data)\n",
    "    cost.append(loss.item())\n",
    "    w.grad.data.zero_()"
   ]
  },
  {
   "cell_type": "code",
   "execution_count": 166,
   "metadata": {},
   "outputs": [
    {
     "data": {
      "text/plain": [
       "[0.08915474265813828,\n",
       " 0.08906543999910355,\n",
       " 0.08897723257541656,\n",
       " 0.08888784050941467]"
      ]
     },
     "execution_count": 166,
     "metadata": {},
     "output_type": "execute_result"
    }
   ],
   "source": [
    "cost"
   ]
  },
  {
   "cell_type": "markdown",
   "metadata": {},
   "source": [
    "The above method is called \"BATCH GRADIENT DESCENT\" since all the examples in the dataset is taken at once to calculate cost and backpropagate to \n",
    "optimize the weights"
   ]
  },
  {
   "cell_type": "markdown",
   "metadata": {},
   "source": [
    "#### Stochastitc Gradient Descent\n",
    "\n",
    "This method of optimizarion takes every individual sample and caluclates loss and then optimize it by partial differentiation\n",
    "\n",
    "Hence the total number of iteration per epoch = total number of samples = total number of updates in weight w"
   ]
  },
  {
   "cell_type": "code",
   "execution_count": null,
   "metadata": {
    "collapsed": true
   },
   "outputs": [],
   "source": [
    "w = torch.tensor(-10.0, requires_grad=True)\n",
    "\n",
    "# create a range of input value with .arange() function where 0.1 is the stepsize from -3 to 3(resulting in 60 elements). \n",
    "# View function creates transposes matrix from (1x60) to (60x1)\n",
    "x = torch.arange(-3,3,0.1).view(-1,1)\n",
    "\n",
    "#Lets create the actual output y\n",
    "\n",
    "f = -3*x\n",
    "\n",
    "y = f + (0.1*torch.rand(x.size()))"
   ]
  },
  {
   "cell_type": "code",
   "execution_count": 169,
   "metadata": {},
   "outputs": [
    {
     "name": "stdout",
     "output_type": "stream",
     "text": [
      "Updated weight for epoch 0 is -9.821308135986328 with total loss of 5.322175860404968\n",
      "Updated weight for epoch 1 is -9.647895812988281 with total loss of 5.01216085255146\n",
      "Updated weight for epoch 2 is -9.47961139678955 with total loss of 4.720197334885597\n",
      "Updated weight for epoch 3 is -9.316304206848145 with total loss of 4.445249117910862\n"
     ]
    }
   ],
   "source": [
    "cost = []\n",
    "total_loss = []\n",
    "for epoch in range(4):\n",
    "    total = 0\n",
    "    for i in zip(x,y):\n",
    "        yhat = forward(x)\n",
    "        loss = loss_mse(y,yhat)\n",
    "        loss.backward()\n",
    "        w.data = w.data - (0.1*w.grad.data)\n",
    "        #print(w.data)\n",
    "        cost.append(loss.item())\n",
    "        w.grad.data.zero_()\n",
    "        total = total + loss.item() #total loss for the iteration\n",
    "    total_loss.append # total loss for the epoch   \n",
    "    print('Updated weight for epoch {} is {} with total loss of {}'.format(epoch, w.data, total))"
   ]
  },
  {
   "cell_type": "markdown",
   "metadata": {},
   "source": [
    "#### Mini -Batch Gradient Descent\n",
    "\n",
    "This method is similar to SGD but takes in bunches instaed of individual samples."
   ]
  },
  {
   "cell_type": "code",
   "execution_count": null,
   "metadata": {
    "collapsed": true
   },
   "outputs": [],
   "source": [
    "w = torch.tensor(-10.0, requires_grad=True)\n",
    "\n",
    "# create a range of input value with .arange() function where 0.1 is the stepsize from -3 to 3(resulting in 60 elements). \n",
    "# View function creates transposes matrix from (1x60) to (60x1)\n",
    "x = torch.arange(-3,3,0.1).view(-1,1)\n",
    "\n",
    "#Lets create the actual output y\n",
    "\n",
    "f = -3*x\n",
    "\n",
    "y = f + (0.1*torch.rand(x.size()))"
   ]
  },
  {
   "cell_type": "code",
   "execution_count": 174,
   "metadata": {},
   "outputs": [
    {
     "name": "stdout",
     "output_type": "stream",
     "text": [
      "Updated weight for epoch 0 is -2.91878604888916 with total loss of 581.586856842041\n",
      "Updated weight for epoch 1 is -3.017382860183716 with total loss of 0.07656095642596483\n",
      "Updated weight for epoch 2 is -3.016010046005249 with total loss of 0.008780610223766416\n",
      "Updated weight for epoch 3 is -3.016029119491577 with total loss of 0.008141433470882475\n"
     ]
    }
   ],
   "source": [
    "cost = []\n",
    "total_loss = []\n",
    "bs = 3\n",
    "for epoch in range(4):\n",
    "    total = 0\n",
    "    start = 0\n",
    "    batch_size = bs\n",
    "    for i in range(batch_size):\n",
    "        x_ = x[start:batch_size]\n",
    "        y_ = y[start:batch_size]\n",
    "        yhat = forward(x_)\n",
    "        loss = loss_mse(y_,yhat)\n",
    "        loss.backward()\n",
    "        w.data = w.data - (0.1*w.grad.data)\n",
    "        #print(w.data)\n",
    "        cost.append(loss.item())\n",
    "        w.grad.data.zero_()\n",
    "        total = total + loss.item() #total loss for the iteration\n",
    "        start = batch_size\n",
    "        batch_size = batch_size + bs\n",
    "    total_loss.append # total loss for the epoch   \n",
    "    print('Updated weight for epoch {} is {} with total loss of {}'.format(epoch, w.data, total))"
   ]
  },
  {
   "cell_type": "markdown",
   "metadata": {},
   "source": [
    "# Optim function to automate optimization"
   ]
  },
  {
   "cell_type": "code",
   "execution_count": 195,
   "metadata": {},
   "outputs": [],
   "source": [
    "from torch import nn,optim"
   ]
  },
  {
   "cell_type": "code",
   "execution_count": 196,
   "metadata": {},
   "outputs": [],
   "source": [
    "loss_mse = nn.MSELoss()"
   ]
  },
  {
   "cell_type": "code",
   "execution_count": 205,
   "metadata": {},
   "outputs": [
    {
     "name": "stdout",
     "output_type": "stream",
     "text": [
      "OrderedDict([('Linear.weight', tensor([[-0.2751]])), ('Linear.bias', tensor([-0.3833]))])\n"
     ]
    }
   ],
   "source": [
    "model = Linear_Regression(1,1)\n",
    "print(model.state_dict())\n",
    "optimizer = optim.SGD(model.parameters(), lr=0.01)"
   ]
  },
  {
   "cell_type": "code",
   "execution_count": 206,
   "metadata": {
    "collapsed": true
   },
   "outputs": [],
   "source": [
    "# create a range of input value with .arange() function where 0.1 is the stepsize from -3 to 3(resulting in 60 elements). \n",
    "# View function creates transposes matrix from (1x60) to (60x1)\n",
    "x = torch.arange(-3,3,0.1).view(-1,1)\n",
    "\n",
    "#Lets create the actual output y\n",
    "\n",
    "f = -3*x\n",
    "\n",
    "y = f + (0.1*torch.rand(x.size()))"
   ]
  },
  {
   "cell_type": "code",
   "execution_count": 214,
   "metadata": {},
   "outputs": [
    {
     "name": "stdout",
     "output_type": "stream",
     "text": [
      "The total loss for epoch 0 is 1617.740312576294 with parameters {'state': {}, 'param_groups': [{'lr': 0.01, 'momentum': 0, 'dampening': 0, 'weight_decay': 0, 'nesterov': False, 'params': [2487013126288, 2487013128592]}]}\n",
      "The total loss for epoch 1 is 1617.7398281097412 with parameters {'state': {}, 'param_groups': [{'lr': 0.01, 'momentum': 0, 'dampening': 0, 'weight_decay': 0, 'nesterov': False, 'params': [2487013126288, 2487013128592]}]}\n",
      "The total loss for epoch 2 is 1617.7398204803467 with parameters {'state': {}, 'param_groups': [{'lr': 0.01, 'momentum': 0, 'dampening': 0, 'weight_decay': 0, 'nesterov': False, 'params': [2487013126288, 2487013128592]}]}\n",
      "The total loss for epoch 3 is 1617.7398052215576 with parameters {'state': {}, 'param_groups': [{'lr': 0.01, 'momentum': 0, 'dampening': 0, 'weight_decay': 0, 'nesterov': False, 'params': [2487013126288, 2487013128592]}]}\n"
     ]
    }
   ],
   "source": [
    "cost = []\n",
    "total_loss = []\n",
    "for epoch in range(4):\n",
    "    total = 0\n",
    "    for i in zip(x,y):\n",
    "        yhat = model.forward_pass(i[0])\n",
    "        loss = loss_mse(y,yhat)\n",
    "        optimizer.zero_grad()\n",
    "        loss.backward()\n",
    "        total = total + loss.item()\n",
    "        optimizer.step() #this method update the weights w based on diff values from loss.backward() under the hood\n",
    "    print(\"The total loss for epoch {} is {} with parameters {}\".format(epoch,total,optimizer.state_dict()))"
   ]
  },
  {
   "cell_type": "markdown",
   "metadata": {},
   "source": [
    "Thus using nn module to select the required buit-in loss function and then optim function to select required optimization algorithm\n"
   ]
  }
 ],
 "metadata": {
  "kernelspec": {
   "display_name": "Python 3",
   "language": "python",
   "name": "python3"
  },
  "language_info": {
   "codemirror_mode": {
    "name": "ipython",
    "version": 3
   },
   "file_extension": ".py",
   "mimetype": "text/x-python",
   "name": "python",
   "nbconvert_exporter": "python",
   "pygments_lexer": "ipython3",
   "version": "3.6.1"
  }
 },
 "nbformat": 4,
 "nbformat_minor": 2
}
